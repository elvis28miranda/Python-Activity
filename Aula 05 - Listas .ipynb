{
 "cells": [
  {
   "cell_type": "code",
   "execution_count": 1,
   "id": "4b681b88-0414-4cb2-a574-715b7f446211",
   "metadata": {},
   "outputs": [],
   "source": [
    "#listas"
   ]
  },
  {
   "cell_type": "code",
   "execution_count": 7,
   "id": "837f8dcc-35a2-41b9-9178-32a2631042b2",
   "metadata": {},
   "outputs": [],
   "source": [
    "frutas = ['maça','laranja','banana','abacaxi']"
   ]
  },
  {
   "cell_type": "code",
   "execution_count": 9,
   "id": "1492b1ec-a6b2-4cc7-aaf9-3bfb70dc87cb",
   "metadata": {},
   "outputs": [
    {
     "data": {
      "text/plain": [
       "'banana'"
      ]
     },
     "execution_count": 9,
     "metadata": {},
     "output_type": "execute_result"
    }
   ],
   "source": [
    "frutas[2]"
   ]
  },
  {
   "cell_type": "code",
   "execution_count": 11,
   "id": "f41d58ea-262d-4d34-9366-55521367939e",
   "metadata": {},
   "outputs": [],
   "source": [
    "frutas = ['maça','laranja','banana','abacaxi','abacate','limão']"
   ]
  },
  {
   "cell_type": "code",
   "execution_count": 13,
   "id": "989039d0-e480-4bff-830c-9a6700a4a7e3",
   "metadata": {},
   "outputs": [
    {
     "data": {
      "text/plain": [
       "['laranja', 'banana', 'abacaxi']"
      ]
     },
     "execution_count": 13,
     "metadata": {},
     "output_type": "execute_result"
    }
   ],
   "source": [
    "frutas[1:4]"
   ]
  },
  {
   "cell_type": "code",
   "execution_count": 15,
   "id": "14b0efd4-adac-49a2-919b-f7248d49995f",
   "metadata": {},
   "outputs": [
    {
     "data": {
      "text/plain": [
       "[]"
      ]
     },
     "execution_count": 15,
     "metadata": {},
     "output_type": "execute_result"
    }
   ],
   "source": [
    "frutas[4:4]"
   ]
  },
  {
   "cell_type": "code",
   "execution_count": 17,
   "id": "c1a920cd-0a8c-48f6-bb22-aa6ab85a6098",
   "metadata": {},
   "outputs": [
    {
     "data": {
      "text/plain": [
       "['abacate']"
      ]
     },
     "execution_count": 17,
     "metadata": {},
     "output_type": "execute_result"
    }
   ],
   "source": [
    "frutas[4:5]"
   ]
  },
  {
   "cell_type": "code",
   "execution_count": 21,
   "id": "a7c688ce-95a7-4da0-99c4-5149bdb248f7",
   "metadata": {},
   "outputs": [
    {
     "data": {
      "text/plain": [
       "['maça', 'laranja', 'banana', 'abacaxi', 'abacate']"
      ]
     },
     "execution_count": 21,
     "metadata": {},
     "output_type": "execute_result"
    }
   ],
   "source": [
    "frutas[0:5]"
   ]
  },
  {
   "cell_type": "code",
   "execution_count": 23,
   "id": "d401a59a-4c81-44f4-8bb0-788e19c99252",
   "metadata": {},
   "outputs": [
    {
     "data": {
      "text/plain": [
       "['maça', 'laranja', 'banana', 'abacaxi', 'abacate', 'limão']"
      ]
     },
     "execution_count": 23,
     "metadata": {},
     "output_type": "execute_result"
    }
   ],
   "source": [
    "frutas[0:]"
   ]
  },
  {
   "cell_type": "code",
   "execution_count": null,
   "id": "f9f0b9d5-7206-4a41-87bd-19c740a81a7c",
   "metadata": {},
   "outputs": [],
   "source": [
    "\n",
    "\n"
   ]
  },
  {
   "cell_type": "code",
   "execution_count": 26,
   "id": "2065aec8-0574-47ee-94be-f5a97da2ce9a",
   "metadata": {},
   "outputs": [],
   "source": [
    "lista = ['sim', 'não','sim', 'não','sim', 'não']"
   ]
  },
  {
   "cell_type": "code",
   "execution_count": 28,
   "id": "ac811a86-3e37-4359-81a6-1c441b362c43",
   "metadata": {},
   "outputs": [
    {
     "data": {
      "text/plain": [
       "['sim', 'não', 'sim', 'não', 'sim', 'não']"
      ]
     },
     "execution_count": 28,
     "metadata": {},
     "output_type": "execute_result"
    }
   ],
   "source": [
    "lista [:]"
   ]
  },
  {
   "cell_type": "code",
   "execution_count": 30,
   "id": "33ef2614-1e80-4ee8-9952-14caf482700f",
   "metadata": {},
   "outputs": [
    {
     "data": {
      "text/plain": [
       "['sim', 'não', 'sim', 'não', 'sim', 'não']"
      ]
     },
     "execution_count": 30,
     "metadata": {},
     "output_type": "execute_result"
    }
   ],
   "source": [
    "lista [0:7]"
   ]
  },
  {
   "cell_type": "code",
   "execution_count": 32,
   "id": "edad1f4d-af67-476c-a2ac-dc212e5be691",
   "metadata": {},
   "outputs": [
    {
     "data": {
      "text/plain": [
       "['sim', 'sim', 'sim']"
      ]
     },
     "execution_count": 32,
     "metadata": {},
     "output_type": "execute_result"
    }
   ],
   "source": [
    "lista [0:7:2]"
   ]
  },
  {
   "cell_type": "code",
   "execution_count": 34,
   "id": "c52b2564-5296-4d3b-b162-8dd3e806f189",
   "metadata": {},
   "outputs": [
    {
     "data": {
      "text/plain": [
       "['sim', 'sim', 'sim']"
      ]
     },
     "execution_count": 34,
     "metadata": {},
     "output_type": "execute_result"
    }
   ],
   "source": [
    "lista [::2]"
   ]
  },
  {
   "cell_type": "code",
   "execution_count": 36,
   "id": "4406359e-c281-4d7f-8eb8-73f88a1c33d8",
   "metadata": {},
   "outputs": [],
   "source": [
    "#testando se um valor está na lista"
   ]
  },
  {
   "cell_type": "code",
   "execution_count": 38,
   "id": "d536d624-b2ae-4aac-92ed-36ed1c2d300c",
   "metadata": {},
   "outputs": [],
   "source": [
    "frutas = ['maça','laranja','banana','abacaxi','abacate','limão']\n"
   ]
  },
  {
   "cell_type": "code",
   "execution_count": 40,
   "id": "7a4a2b0d-aff9-427a-9524-5330b2c4520f",
   "metadata": {},
   "outputs": [
    {
     "data": {
      "text/plain": [
       "True"
      ]
     },
     "execution_count": 40,
     "metadata": {},
     "output_type": "execute_result"
    }
   ],
   "source": [
    "'maça' in frutas"
   ]
  },
  {
   "cell_type": "code",
   "execution_count": 42,
   "id": "f38364cc-59a2-4cd4-b062-0ca4c63be62c",
   "metadata": {},
   "outputs": [
    {
     "data": {
      "text/plain": [
       "False"
      ]
     },
     "execution_count": 42,
     "metadata": {},
     "output_type": "execute_result"
    }
   ],
   "source": [
    "'maracujá' in frutas"
   ]
  },
  {
   "cell_type": "code",
   "execution_count": 44,
   "id": "9661a612-cd6f-472f-b6f2-a52121315942",
   "metadata": {},
   "outputs": [],
   "source": [
    "#juntar listas"
   ]
  },
  {
   "cell_type": "code",
   "execution_count": 46,
   "id": "eaccb6c6-89b0-42b4-8471-f00d43964d97",
   "metadata": {},
   "outputs": [],
   "source": [
    "frutas2 = ['melancia','morango','manga']"
   ]
  },
  {
   "cell_type": "code",
   "execution_count": 48,
   "id": "7565d3c7-e616-4088-abbb-2471bdd56ee0",
   "metadata": {},
   "outputs": [],
   "source": [
    "frutas3 = frutas + frutas2"
   ]
  },
  {
   "cell_type": "code",
   "execution_count": 50,
   "id": "93cf323a-8a96-48d7-8938-5236e451d682",
   "metadata": {},
   "outputs": [
    {
     "data": {
      "text/plain": [
       "['maça',\n",
       " 'laranja',\n",
       " 'banana',\n",
       " 'abacaxi',\n",
       " 'abacate',\n",
       " 'limão',\n",
       " 'melancia',\n",
       " 'morango',\n",
       " 'manga']"
      ]
     },
     "execution_count": 50,
     "metadata": {},
     "output_type": "execute_result"
    }
   ],
   "source": [
    "frutas3"
   ]
  },
  {
   "cell_type": "code",
   "execution_count": 52,
   "id": "ed79b6fb-a8c6-4351-a2a4-b3bffbcd0be1",
   "metadata": {},
   "outputs": [],
   "source": [
    "#listas dentro de listas"
   ]
  },
  {
   "cell_type": "code",
   "execution_count": 54,
   "id": "89646f4c-bedc-4e4e-ac5b-ac23a48dbe65",
   "metadata": {},
   "outputs": [],
   "source": [
    "lista = [1,2,3,'alvo',20]"
   ]
  },
  {
   "cell_type": "code",
   "execution_count": 56,
   "id": "3b026a4d-ee37-4464-a3bc-1fa57ca77cbe",
   "metadata": {},
   "outputs": [
    {
     "data": {
      "text/plain": [
       "'alvo'"
      ]
     },
     "execution_count": 56,
     "metadata": {},
     "output_type": "execute_result"
    }
   ],
   "source": [
    "lista[3]"
   ]
  },
  {
   "cell_type": "code",
   "execution_count": 58,
   "id": "e8b1c25a-e2a1-4bbb-b6f0-f3acc821cdff",
   "metadata": {},
   "outputs": [],
   "source": [
    "lista = [1,2,3,[10,'alvo',15],18,20]"
   ]
  },
  {
   "cell_type": "code",
   "execution_count": 60,
   "id": "bd63309e-5253-40eb-bb2d-fa55579fe932",
   "metadata": {},
   "outputs": [
    {
     "data": {
      "text/plain": [
       "[10, 'alvo', 15]"
      ]
     },
     "execution_count": 60,
     "metadata": {},
     "output_type": "execute_result"
    }
   ],
   "source": [
    "lista[3]\n"
   ]
  },
  {
   "cell_type": "code",
   "execution_count": 62,
   "id": "7cec5cf6-72b0-4358-adc7-078d09932ab0",
   "metadata": {},
   "outputs": [
    {
     "data": {
      "text/plain": [
       "'alvo'"
      ]
     },
     "execution_count": 62,
     "metadata": {},
     "output_type": "execute_result"
    }
   ],
   "source": [
    "lista[3][1]\n"
   ]
  },
  {
   "cell_type": "code",
   "execution_count": 66,
   "id": "c45adbd2-d2e9-4951-bef8-0f8342207c82",
   "metadata": {},
   "outputs": [],
   "source": [
    "lista = [1,2,3,[10,2,[2,4,'alvo']],25,23]"
   ]
  },
  {
   "cell_type": "code",
   "execution_count": 70,
   "id": "0f14859b-b817-4b79-8bd7-5a6d56084f0a",
   "metadata": {},
   "outputs": [
    {
     "data": {
      "text/plain": [
       "'alvo'"
      ]
     },
     "execution_count": 70,
     "metadata": {},
     "output_type": "execute_result"
    }
   ],
   "source": [
    "lista[3][2][2]"
   ]
  },
  {
   "cell_type": "code",
   "execution_count": 72,
   "id": "b9b8165e-d526-4edf-ad38-98bb5e0dea7a",
   "metadata": {},
   "outputs": [],
   "source": [
    "#alterar valores da lista"
   ]
  },
  {
   "cell_type": "code",
   "execution_count": 74,
   "id": "d1cb0df8-ee66-4816-bb9c-9c3eabba03be",
   "metadata": {},
   "outputs": [],
   "source": [
    "lista = [2,4,6,8]"
   ]
  },
  {
   "cell_type": "code",
   "execution_count": 78,
   "id": "19c18892-bcad-4dee-a945-6fb79b41e4ef",
   "metadata": {},
   "outputs": [],
   "source": [
    "lista [1] = 5"
   ]
  },
  {
   "cell_type": "code",
   "execution_count": 80,
   "id": "b0c353b5-4430-4019-b3fe-7b9ddd8036e7",
   "metadata": {},
   "outputs": [
    {
     "data": {
      "text/plain": [
       "[2, 5, 6, 8]"
      ]
     },
     "execution_count": 80,
     "metadata": {},
     "output_type": "execute_result"
    }
   ],
   "source": [
    "lista"
   ]
  },
  {
   "cell_type": "code",
   "execution_count": 82,
   "id": "fdc780c5-1228-4fd2-9453-3a2684340778",
   "metadata": {},
   "outputs": [],
   "source": [
    "lista [:] = ['cheguei','cheguei','cheguei','cheguei']"
   ]
  },
  {
   "cell_type": "code",
   "execution_count": 84,
   "id": "0b7547a6-092a-4ed8-94cb-c171f877c602",
   "metadata": {},
   "outputs": [
    {
     "data": {
      "text/plain": [
       "['cheguei', 'cheguei', 'cheguei', 'cheguei']"
      ]
     },
     "execution_count": 84,
     "metadata": {},
     "output_type": "execute_result"
    }
   ],
   "source": [
    "lista\n"
   ]
  },
  {
   "cell_type": "code",
   "execution_count": 86,
   "id": "b180a652-6138-4e76-a8bc-86b231e2abc7",
   "metadata": {},
   "outputs": [],
   "source": [
    "#atribuir valores"
   ]
  },
  {
   "cell_type": "code",
   "execution_count": 88,
   "id": "9d86ce71-a67f-4ae8-bd71-f205ba33b63b",
   "metadata": {},
   "outputs": [],
   "source": [
    "lista = [2,4,6,8]"
   ]
  },
  {
   "cell_type": "code",
   "execution_count": 90,
   "id": "1cb20579-63dd-451d-8e9c-5449a36672b1",
   "metadata": {},
   "outputs": [],
   "source": [
    "lista.append(10)"
   ]
  },
  {
   "cell_type": "code",
   "execution_count": 92,
   "id": "d546f654-96d8-466d-8217-0b4681491257",
   "metadata": {},
   "outputs": [
    {
     "data": {
      "text/plain": [
       "[2, 4, 6, 8, 10]"
      ]
     },
     "execution_count": 92,
     "metadata": {},
     "output_type": "execute_result"
    }
   ],
   "source": [
    "lista"
   ]
  },
  {
   "cell_type": "code",
   "execution_count": 94,
   "id": "d7d579f5-287d-4a9c-94ee-2f1547f92fc4",
   "metadata": {},
   "outputs": [],
   "source": [
    "del(lista[2])"
   ]
  },
  {
   "cell_type": "code",
   "execution_count": 96,
   "id": "7678d788-1f6b-4f3c-a4ee-115bbeea9a42",
   "metadata": {},
   "outputs": [
    {
     "data": {
      "text/plain": [
       "[2, 4, 8, 10]"
      ]
     },
     "execution_count": 96,
     "metadata": {},
     "output_type": "execute_result"
    }
   ],
   "source": [
    "lista\n"
   ]
  },
  {
   "cell_type": "code",
   "execution_count": null,
   "id": "264826d3-7763-43d1-9cf1-3d92ed43515c",
   "metadata": {},
   "outputs": [],
   "source": []
  }
 ],
 "metadata": {
  "kernelspec": {
   "display_name": "Python [conda env:base] *",
   "language": "python",
   "name": "conda-base-py"
  },
  "language_info": {
   "codemirror_mode": {
    "name": "ipython",
    "version": 3
   },
   "file_extension": ".py",
   "mimetype": "text/x-python",
   "name": "python",
   "nbconvert_exporter": "python",
   "pygments_lexer": "ipython3",
   "version": "3.12.7"
  }
 },
 "nbformat": 4,
 "nbformat_minor": 5
}
