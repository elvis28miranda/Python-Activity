{
 "cells": [
  {
   "cell_type": "code",
   "execution_count": 1,
   "id": "483c6bae-e378-4a8d-9e6f-1f938c4ef1fc",
   "metadata": {},
   "outputs": [],
   "source": [
    "#"
   ]
  },
  {
   "cell_type": "code",
   "execution_count": 3,
   "id": "fde1cfa8-1b59-4a23-8523-25876fb6ae6b",
   "metadata": {},
   "outputs": [],
   "source": [
    "soma = 10 + 15"
   ]
  },
  {
   "cell_type": "code",
   "execution_count": 5,
   "id": "0c543476-88f0-41bf-a0da-828130de6b6c",
   "metadata": {},
   "outputs": [
    {
     "data": {
      "text/plain": [
       "25"
      ]
     },
     "execution_count": 5,
     "metadata": {},
     "output_type": "execute_result"
    }
   ],
   "source": [
    "soma"
   ]
  },
  {
   "cell_type": "code",
   "execution_count": 7,
   "id": "1e04f4ff-667e-421c-8505-03c0882c97a5",
   "metadata": {},
   "outputs": [],
   "source": [
    "soma = 14.5 + 22.2 "
   ]
  },
  {
   "cell_type": "code",
   "execution_count": 9,
   "id": "f8787fff-b000-4ad9-bf8c-ed0397bebf89",
   "metadata": {},
   "outputs": [
    {
     "data": {
      "text/plain": [
       "36.7"
      ]
     },
     "execution_count": 9,
     "metadata": {},
     "output_type": "execute_result"
    }
   ],
   "source": [
    "soma\n"
   ]
  },
  {
   "cell_type": "code",
   "execution_count": 11,
   "id": "d264817c-d7b5-425c-ab4a-36ee509ba9e3",
   "metadata": {},
   "outputs": [],
   "source": [
    "#subtração\n"
   ]
  },
  {
   "cell_type": "code",
   "execution_count": 13,
   "id": "a15735f7-bf93-4f13-8eb5-096c09fc17ae",
   "metadata": {},
   "outputs": [],
   "source": [
    "soma = 15 - 14"
   ]
  },
  {
   "cell_type": "code",
   "execution_count": 15,
   "id": "b72698d2-ad50-4aa7-b4bf-00470b623bb0",
   "metadata": {},
   "outputs": [
    {
     "data": {
      "text/plain": [
       "1"
      ]
     },
     "execution_count": 15,
     "metadata": {},
     "output_type": "execute_result"
    }
   ],
   "source": [
    "soma\n"
   ]
  },
  {
   "cell_type": "code",
   "execution_count": 17,
   "id": "26b7157b-b006-409f-bed3-4ae5600b39a6",
   "metadata": {},
   "outputs": [],
   "source": [
    "#multiícação"
   ]
  },
  {
   "cell_type": "code",
   "execution_count": 19,
   "id": "0876d0a1-81df-4412-9200-0689a38ae2f7",
   "metadata": {},
   "outputs": [],
   "source": [
    "mult = 4*5"
   ]
  },
  {
   "cell_type": "code",
   "execution_count": 21,
   "id": "3dfe1090-61b2-4876-8b15-8a27e1315afb",
   "metadata": {},
   "outputs": [
    {
     "data": {
      "text/plain": [
       "20"
      ]
     },
     "execution_count": 21,
     "metadata": {},
     "output_type": "execute_result"
    }
   ],
   "source": [
    "mult"
   ]
  },
  {
   "cell_type": "code",
   "execution_count": 23,
   "id": "764a1f0a-4e26-4ae7-b01b-5594adb18989",
   "metadata": {},
   "outputs": [],
   "source": [
    "#divisão"
   ]
  },
  {
   "cell_type": "code",
   "execution_count": 25,
   "id": "d726d68b-d197-4836-a1cb-7969659ea3ea",
   "metadata": {},
   "outputs": [],
   "source": [
    "div = 10/5"
   ]
  },
  {
   "cell_type": "code",
   "execution_count": 27,
   "id": "bc14d6a4-332c-4d17-a133-baa9115c70a5",
   "metadata": {},
   "outputs": [
    {
     "data": {
      "text/plain": [
       "2.0"
      ]
     },
     "execution_count": 27,
     "metadata": {},
     "output_type": "execute_result"
    }
   ],
   "source": [
    "div"
   ]
  },
  {
   "cell_type": "code",
   "execution_count": null,
   "id": "daf77565-1d81-4964-a7e4-7813f6b6e553",
   "metadata": {},
   "outputs": [],
   "source": []
  }
 ],
 "metadata": {
  "kernelspec": {
   "display_name": "Python [conda env:base] *",
   "language": "python",
   "name": "conda-base-py"
  },
  "language_info": {
   "codemirror_mode": {
    "name": "ipython",
    "version": 3
   },
   "file_extension": ".py",
   "mimetype": "text/x-python",
   "name": "python",
   "nbconvert_exporter": "python",
   "pygments_lexer": "ipython3",
   "version": "3.12.7"
  }
 },
 "nbformat": 4,
 "nbformat_minor": 5
}
