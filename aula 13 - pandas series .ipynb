{
 "cells": [
  {
   "cell_type": "code",
   "execution_count": 1,
   "id": "68b3a458-6ff1-4f2f-883b-e9a2ef4b7f6d",
   "metadata": {},
   "outputs": [],
   "source": [
    "import pandas as pd\n",
    "import numpy as np"
   ]
  },
  {
   "cell_type": "code",
   "execution_count": 3,
   "id": "9d44b934-c080-4ddb-8938-c9e6c2fd8608",
   "metadata": {},
   "outputs": [],
   "source": [
    "#Series a partir de uma lista"
   ]
  },
  {
   "cell_type": "code",
   "execution_count": 5,
   "id": "b548d607-2777-41e4-93e4-568a02507463",
   "metadata": {},
   "outputs": [],
   "source": [
    "lista = [10,20,30,40,50]"
   ]
  },
  {
   "cell_type": "code",
   "execution_count": 7,
   "id": "fec9f17c-a3c0-4112-aa98-b206b5cf2f8a",
   "metadata": {},
   "outputs": [
    {
     "data": {
      "text/plain": [
       "0    10\n",
       "1    20\n",
       "2    30\n",
       "3    40\n",
       "4    50\n",
       "dtype: int64"
      ]
     },
     "execution_count": 7,
     "metadata": {},
     "output_type": "execute_result"
    }
   ],
   "source": [
    "pd.Series(lista)"
   ]
  },
  {
   "cell_type": "code",
   "execution_count": 9,
   "id": "2024fe63-af73-41a1-b998-510199cd249d",
   "metadata": {},
   "outputs": [],
   "source": [
    "#Series a partir de um dicionario"
   ]
  },
  {
   "cell_type": "code",
   "execution_count": 13,
   "id": "14c3337e-8db3-453d-a373-cc040b0cd553",
   "metadata": {},
   "outputs": [],
   "source": [
    "dicionario = {'telefone':'99999999','telefone2':'8888888','telefone3':'7777777'}"
   ]
  },
  {
   "cell_type": "code",
   "execution_count": 15,
   "id": "7bb157ac-1938-4ff6-a8a6-13ef26809b6f",
   "metadata": {},
   "outputs": [
    {
     "data": {
      "text/plain": [
       "telefone     99999999\n",
       "telefone2     8888888\n",
       "telefone3     7777777\n",
       "dtype: object"
      ]
     },
     "execution_count": 15,
     "metadata": {},
     "output_type": "execute_result"
    }
   ],
   "source": [
    "pd.Series(dicionario)"
   ]
  },
  {
   "cell_type": "code",
   "execution_count": 17,
   "id": "9455dd5a-874d-464e-8180-5969ea849b53",
   "metadata": {},
   "outputs": [],
   "source": [
    "#series a partir de um array\n"
   ]
  },
  {
   "cell_type": "code",
   "execution_count": 23,
   "id": "1026997c-8ae3-408b-aad6-b5bbc83ca98c",
   "metadata": {},
   "outputs": [],
   "source": [
    "arr = np.array([10,20,30,40,50])"
   ]
  },
  {
   "cell_type": "raw",
   "id": "e856f9fa-4df7-46cc-95c8-a82cef7279fc",
   "metadata": {},
   "source": [
    "arr"
   ]
  },
  {
   "cell_type": "code",
   "execution_count": 25,
   "id": "a5454688-e676-4696-9c0d-ae2200f2243f",
   "metadata": {},
   "outputs": [],
   "source": [
    "series3 = pd.Series(arr)"
   ]
  },
  {
   "cell_type": "code",
   "execution_count": 27,
   "id": "a24c9755-a37b-403b-835d-86c6c62b6044",
   "metadata": {},
   "outputs": [
    {
     "data": {
      "text/plain": [
       "0    10\n",
       "1    20\n",
       "2    30\n",
       "3    40\n",
       "4    50\n",
       "dtype: int32"
      ]
     },
     "execution_count": 27,
     "metadata": {},
     "output_type": "execute_result"
    }
   ],
   "source": [
    "series3"
   ]
  },
  {
   "cell_type": "code",
   "execution_count": 29,
   "id": "5df4b420-852d-460d-a71b-e8f7d786adcd",
   "metadata": {},
   "outputs": [],
   "source": [
    "series4 = pd.Series([10,20,30,40,50])"
   ]
  },
  {
   "cell_type": "code",
   "execution_count": 31,
   "id": "30d2d9bc-94d6-4aee-9d50-3a9fcea86541",
   "metadata": {},
   "outputs": [
    {
     "data": {
      "text/plain": [
       "0    10\n",
       "1    20\n",
       "2    30\n",
       "3    40\n",
       "4    50\n",
       "dtype: int64"
      ]
     },
     "execution_count": 31,
     "metadata": {},
     "output_type": "execute_result"
    }
   ],
   "source": [
    "series4\n"
   ]
  },
  {
   "cell_type": "code",
   "execution_count": 33,
   "id": "d5f8f56f-fe5e-466c-91df-444e34efe42b",
   "metadata": {},
   "outputs": [],
   "source": [
    "lista = [100,200,300,400,500]"
   ]
  },
  {
   "cell_type": "code",
   "execution_count": 35,
   "id": "e99c9e7b-5323-4109-aff6-2edc9ffb6fea",
   "metadata": {},
   "outputs": [],
   "source": [
    "series4 = pd.Series(lista)"
   ]
  },
  {
   "cell_type": "code",
   "execution_count": 37,
   "id": "c93739a2-7efe-458b-9f1f-aede5d17e415",
   "metadata": {},
   "outputs": [
    {
     "data": {
      "text/plain": [
       "0    100\n",
       "1    200\n",
       "2    300\n",
       "3    400\n",
       "4    500\n",
       "dtype: int64"
      ]
     },
     "execution_count": 37,
     "metadata": {},
     "output_type": "execute_result"
    }
   ],
   "source": [
    "series4"
   ]
  },
  {
   "cell_type": "code",
   "execution_count": 43,
   "id": "d8064a76-47bf-48de-9426-409bcebede59",
   "metadata": {},
   "outputs": [],
   "source": [
    "series5 = pd.Series([1,2,3,4],index=['Brasil','USA','Argentina','Chile'])"
   ]
  },
  {
   "cell_type": "code",
   "execution_count": 45,
   "id": "2163ddd8-3824-4e2e-a550-15fbc658a19a",
   "metadata": {},
   "outputs": [
    {
     "data": {
      "text/plain": [
       "Brasil       1\n",
       "USA          2\n",
       "Argentina    3\n",
       "Chile        4\n",
       "dtype: int64"
      ]
     },
     "execution_count": 45,
     "metadata": {},
     "output_type": "execute_result"
    }
   ],
   "source": [
    "series5\n"
   ]
  },
  {
   "cell_type": "code",
   "execution_count": 49,
   "id": "5f255298-b396-4e89-9011-089839620793",
   "metadata": {},
   "outputs": [],
   "source": [
    "lista = [1,2,3,4]\n",
    "labels = ['Brasil','USA','Argentina','Chile']"
   ]
  },
  {
   "cell_type": "code",
   "execution_count": 51,
   "id": "4f66341a-fc47-475e-84a9-6102fb4b71b4",
   "metadata": {},
   "outputs": [],
   "source": [
    "series6 = pd.Series(data=lista,index=labels)"
   ]
  },
  {
   "cell_type": "code",
   "execution_count": 53,
   "id": "98b5b6bb-d293-4b1e-84c1-8ae79947f8c6",
   "metadata": {},
   "outputs": [
    {
     "data": {
      "text/plain": [
       "Brasil       1\n",
       "USA          2\n",
       "Argentina    3\n",
       "Chile        4\n",
       "dtype: int64"
      ]
     },
     "execution_count": 53,
     "metadata": {},
     "output_type": "execute_result"
    }
   ],
   "source": [
    "series6"
   ]
  },
  {
   "cell_type": "code",
   "execution_count": 55,
   "id": "800328eb-719c-460f-9cf2-e8417f4692f5",
   "metadata": {},
   "outputs": [],
   "source": [
    "series7 = pd.Series(data=[2,4,6,8], index=['Brasil','USA','Argentina','Chile'])"
   ]
  },
  {
   "cell_type": "code",
   "execution_count": 57,
   "id": "9f44a0e2-01c1-45b4-981b-d74230d9dd1d",
   "metadata": {},
   "outputs": [
    {
     "data": {
      "text/plain": [
       "Brasil       2\n",
       "USA          4\n",
       "Argentina    6\n",
       "Chile        8\n",
       "dtype: int64"
      ]
     },
     "execution_count": 57,
     "metadata": {},
     "output_type": "execute_result"
    }
   ],
   "source": [
    "series7"
   ]
  },
  {
   "cell_type": "code",
   "execution_count": 59,
   "id": "6741b483-1269-490b-855b-ef6a1940b381",
   "metadata": {},
   "outputs": [
    {
     "data": {
      "text/plain": [
       "Brasil        3\n",
       "USA           6\n",
       "Argentina     9\n",
       "Chile        12\n",
       "dtype: int64"
      ]
     },
     "execution_count": 59,
     "metadata": {},
     "output_type": "execute_result"
    }
   ],
   "source": [
    "series7 + series6"
   ]
  },
  {
   "cell_type": "code",
   "execution_count": null,
   "id": "e7d1b736-1f2d-47f6-a261-a45416faa076",
   "metadata": {},
   "outputs": [],
   "source": []
  }
 ],
 "metadata": {
  "kernelspec": {
   "display_name": "Python [conda env:base] *",
   "language": "python",
   "name": "conda-base-py"
  },
  "language_info": {
   "codemirror_mode": {
    "name": "ipython",
    "version": 3
   },
   "file_extension": ".py",
   "mimetype": "text/x-python",
   "name": "python",
   "nbconvert_exporter": "python",
   "pygments_lexer": "ipython3",
   "version": "3.12.7"
  }
 },
 "nbformat": 4,
 "nbformat_minor": 5
}
